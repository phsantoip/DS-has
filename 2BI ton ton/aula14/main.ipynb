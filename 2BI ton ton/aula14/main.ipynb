{
 "cells": [
  {
   "cell_type": "markdown",
   "metadata": {},
   "source": [
    "## Programa Principal"
   ]
  },
  {
   "cell_type": "code",
   "execution_count": null,
   "metadata": {},
   "outputs": [],
   "source": [
    "from funcoes import *\n",
    "\n",
    "lista = ['11','-15','20.50','20.50','True','texto','exercicio','54', '54', '-9.2']\n",
    "lista2 = []\n",
    "linha=\"---------------------------------------------------------------------\"\n",
    "i = 's'\n",
    "while i.upper() == 'S':\n",
    "    print(\"\\n\\n\", linha)\n",
    "    print(\"1 - Preencher a lista até que seja digitado um ponto final.\\n\")\n",
    "    print(\"2 - Exibir a lista.\\n\")\n",
    "    print(\"3 - Contar quantos elementos existem na lista.\\n\")\n",
    "    print(\"4 - Retornar o índice de um elemento dado pelo usuário.\\n\")\n",
    "    print(\"5 - Retornar a quantidade de um elemento passado pelo usuário.\\n\")\n",
    "    print(\"6 - Contar quantos números inteiros existem na lista.\\n\")\n",
    "    print(\"7 - Contar quantos elementos strings existem na lista.\\n\")\n",
    "    print(\"8 - Contar quantos elementos lógicos existem na lista. (True/False)\\n\")\n",
    "    print(\"9 - Contar quantos elementos do tipo float existem na lista.\\n\")\n",
    "    print(\"10 - Jogar em uma segunda lista somente os números inteiros da lista original!\")\n",
    "    print(linha)\n",
    "    print(f\"Lista atual: {lista}\")\n",
    "    print(linha)\n",
    "\n",
    "    decisao = input(\"Digite sua escolha: \")\n",
    "    print(\"\\n\")\n",
    "    match(decisao):\n",
    "        case '1':\n",
    "            preenche_lista(lista)\n",
    "            print(\"\\nLista = \",lista)\n",
    "        case '2':\n",
    "            exibe_lista(lista)\n",
    "        case '3':\n",
    "            print(\"A quantidade de elementos na lista é:\", conta_elementos(lista))\n",
    "        case '4':\n",
    "            print(\"Aviso: caso o elemento não se encontre na lista, o índice será representado por -1.\\n\")\n",
    "            print(\"O índice do elemento dado é:\", retorna_indice(input(\"Digite o elemento a ser passado por parâmetro: \"), lista))\n",
    "        case '5':\n",
    "            print(\"A quantidade de vezes que esse elemento está na lista é:\", busca(lista, input(\"Digite o elemento a ser passado por parâmetro: \")))\n",
    "        case '6':\n",
    "            print(\"A quantidade de números inteiros nessa lista é: \",conta_inteiro(lista))\n",
    "        case '7':\n",
    "            print(\"A quantidade de elementos do tipo string nessa lista é: \",conta_string(lista))\n",
    "        case '8':\n",
    "            print(\"A quantidade de elementos do tipo boolean nessa lista é: \",conta_boolean(lista))\n",
    "        case '9':\n",
    "            print(\"A quantidade de elementos do tipo float nessa lista é: \",conta_float(lista))\n",
    "        case '10':\n",
    "            copia_int(lista, lista2)\n",
    "            print(f\"Lista 1: {lista}\\nLista 2: {lista2}\")\n",
    "        case _:\n",
    "            print(\"Escolha Inválida!\")\n",
    "        \n",
    "    i = input(\"\\nDeseja reiniciar o programa? (s/n): \")\n",
    "    while i.upper() != 'S' and i.upper() != 'N':\n",
    "        i = input(\"\\nErro, [s]im ou [n]ão?\")"
   ]
  }
 ],
 "metadata": {
  "language_info": {
   "name": "python"
  },
  "orig_nbformat": 4
 },
 "nbformat": 4,
 "nbformat_minor": 2
}
