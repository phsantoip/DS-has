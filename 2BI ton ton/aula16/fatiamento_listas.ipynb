{
 "cells": [
  {
   "attachments": {},
   "cell_type": "markdown",
   "metadata": {},
   "source": [
    "## Fatiamento de Listas\n",
    "fatiamos uma lista todas as vezes que precisamos pegar parte da lista\n",
    "'''\n",
    "objeto[inicio: fim: passo]\n",
    "'''"
   ]
  },
  {
   "cell_type": "code",
   "execution_count": null,
   "metadata": {},
   "outputs": [],
   "source": [
    "#       -10 -9  -8  -7  -6  -5  -4  -3  -2   -1     <- índices negativos\n",
    "#        0   1   2   3   4   5   6   7   8    9     <- índices positivos\n",
    "lista = [10, 20, 30, 40, 50, 60, 70, 80, 90, 100] \n",
    "print(lista)\n",
    "new_lista = lista[0:5]\n",
    "print(new_lista)\n",
    "print(lista[3:9])\n",
    "print(lista[:8])\n",
    "print(lista[3:])\n",
    "print(lista[1:9:2])\n",
    "print(lista[0], lista[-1])\n",
    "#EXIBIR DO 40 AO 80 USANDO ÍNDICES NEGATIVOS\n",
    "print(lista[-7:-2:3])\n",
    "#EXIBIR TODOS OS ELEMENTOS EM ORDEM DECRESCENTE\n",
    "print(lista[9::-1])"
   ]
  },
  {
   "attachments": {},
   "cell_type": "markdown",
   "metadata": {},
   "source": [
    "## TUPLAS\n",
    "Similar a listas, a diferença é que ela não é interável, ou seja, o seu valor não pode ser alterado"
   ]
  },
  {
   "cell_type": "code",
   "execution_count": null,
   "metadata": {},
   "outputs": [],
   "source": [
    "lista = list()\n",
    "print(lista)\n",
    "tupla = tuple()\n",
    "print(tupla)\n",
    "lista = [1, 2, 3, 4]\n",
    "tupla = (1, 2, 3, 4)\n",
    "print(lista)\n",
    "print(tupla)\n",
    "new_lista = list(tupla)\n",
    "print(new_lista, tupla)\n",
    "new_lista.append(5)\n",
    "print(new_lista, tupla)\n",
    "tupla = tuple(new_lista)\n",
    "print(new_lista, tupla)\n",
    "print(tupla[1:3:1])"
   ]
  },
  {
   "attachments": {},
   "cell_type": "markdown",
   "metadata": {},
   "source": [
    "## String\n",
    "\"Tipo de dado texto\"\n",
    "String é um objeto, ou seja, uma lista de caracteres"
   ]
  },
  {
   "cell_type": "code",
   "execution_count": 1,
   "metadata": {},
   "outputs": [
    {
     "name": "stdout",
     "output_type": "stream",
     "text": [
      "d\n",
      "son de O\n",
      "arievilO ed nosdE\n",
      "('e', 'd', 's')\n"
     ]
    }
   ],
   "source": [
    "nome = \"Edson de Oliveira\"\n",
    "print(nome[6])\n",
    "print(nome[2:10])\n",
    "print(nome[::-1])\n",
    "nome2 = ('e', 'd', 's')\n",
    "print(nome2)"
   ]
  }
 ],
 "metadata": {
  "kernelspec": {
   "display_name": "Python 3",
   "language": "python",
   "name": "python3"
  },
  "language_info": {
   "codemirror_mode": {
    "name": "ipython",
    "version": 3
   },
   "file_extension": ".py",
   "mimetype": "text/x-python",
   "name": "python",
   "nbconvert_exporter": "python",
   "pygments_lexer": "ipython3",
   "version": "3.11.4"
  },
  "orig_nbformat": 4
 },
 "nbformat": 4,
 "nbformat_minor": 2
}
