{
 "cells": [
  {
   "attachments": {},
   "cell_type": "markdown",
   "metadata": {},
   "source": [
    "## Métodos para Manipulação Strings\n",
    "Agora falaremos exclusivamente de strings (lista de caracteres). Aprenderemosos seus principais métodos."
   ]
  },
  {
   "attachments": {},
   "cell_type": "markdown",
   "metadata": {},
   "source": [
    "### find(texto: str) -> indice:str\n",
    "Este método procura um trecho de string em outra. Retornando o índice do primeiro valor encontrado."
   ]
  },
  {
   "cell_type": "code",
   "execution_count": 5,
   "metadata": {},
   "outputs": [
    {
     "name": "stdout",
     "output_type": "stream",
     "text": [
      "8\n",
      "4\n",
      "-1\n",
      "16\n"
     ]
    }
   ],
   "source": [
    "#        012345678901234567890123456789012345678901234567\n",
    "frase = \"veremos agora o método de manipulação de strings\"\n",
    "print(frase.find(\"agora\"))\n",
    "print(frase.find(\"m\"))\n",
    "print(frase.find(\"listas\"))\n",
    "print(frase.find(\"m\", 10, 30))"
   ]
  },
  {
   "attachments": {},
   "cell_type": "markdown",
   "metadata": {},
   "source": [
    "### Exercício:\n",
    "Crie uma função que retorne todas as primeiras posições de uma string passada por parâmetro.\n",
    "```python\n",
    "print(posicoes(frase, \"m\"))\n",
    "```"
   ]
  },
  {
   "cell_type": "code",
   "execution_count": 1,
   "metadata": {},
   "outputs": [
    {
     "name": "stdout",
     "output_type": "stream",
     "text": [
      "[6, 41, 47]\n"
     ]
    }
   ],
   "source": [
    "def posicoes(frase: str, elemento: str) -> list:\n",
    "    list = []\n",
    "    c = 0\n",
    "    while True:\n",
    "        i = frase.find(elemento, c)\n",
    "        if i != -1:\n",
    "            c = i + 1\n",
    "            list.append(i)\n",
    "        else:\n",
    "            break\n",
    "    return list\n",
    "\n",
    "frase = \"veremos agora o método de manipulação de strings\"\n",
    "elemento = input(\"Digite um elemento a ser passado por parâmetro: \")\n",
    "print(posicoes(frase, elemento))\n"
   ]
  },
  {
   "attachments": {},
   "cell_type": "markdown",
   "metadata": {},
   "source": [
    "### join(lista_string)\n",
    "junta todos os elementos de uma lista do tipo string e converte em uma string apenas."
   ]
  },
  {
   "cell_type": "code",
   "execution_count": 4,
   "metadata": {},
   "outputs": [
    {
     "name": "stdout",
     "output_type": "stream",
     "text": [
      "edson de oliveira\n",
      "edson-de-oliveira\n",
      "edson,de,oliveira\n",
      "edsondeoliveira\n"
     ]
    }
   ],
   "source": [
    "nome=[\"edson\", \"de\", \"oliveira\"]\n",
    "print(\" \".join(nome))\n",
    "print(\"-\".join(nome))\n",
    "print(\",\".join(nome))\n",
    "print(\"\".join(nome))"
   ]
  },
  {
   "attachments": {},
   "cell_type": "markdown",
   "metadata": {},
   "source": [
    "### split()\n",
    "Este método é o contrário do join, ou seja, ele transforma string em uma lista."
   ]
  },
  {
   "cell_type": "code",
   "execution_count": 5,
   "metadata": {},
   "outputs": [
    {
     "name": "stdout",
     "output_type": "stream",
     "text": [
      "['Edson', 'de', 'Oliveira']\n",
      "['Edson d', ' Oliv', 'ira']\n",
      "['Edson ', ' Oliveira']\n"
     ]
    }
   ],
   "source": [
    "nome=\"Edson de Oliveira\"\n",
    "print(nome.split()) # criou uma lista separado por espaços\n",
    "print(nome.split(\"e\")) # criou uma lista separado por e\n",
    "print(nome.split(\"de\")) # criou uma lista separado por de"
   ]
  },
  {
   "attachments": {},
   "cell_type": "markdown",
   "metadata": {},
   "source": [
    "### replace(procura, troca, ocorrencia)\n",
    "procura um caractere, se encontra troca por outra string"
   ]
  },
  {
   "cell_type": "code",
   "execution_count": 32,
   "metadata": {},
   "outputs": [
    {
     "name": "stdout",
     "output_type": "stream",
     "text": [
      "Edson dE olivEira\n",
      "edson DE oliveira\n",
      "edson_de_oliveira\n",
      "edson_de oliveira\n"
     ]
    }
   ],
   "source": [
    "nome = \"edson de oliveira\"\n",
    "print(nome.replace(\"e\",\"E\"))\n",
    "print(nome.replace(\"de\",\"DE\"))\n",
    "print(nome.replace(\" \",\"_\"))\n",
    "print(nome.replace(\" \",\"_\",1))"
   ]
  },
  {
   "attachments": {},
   "cell_type": "markdown",
   "metadata": {},
   "source": [
    "### strip()\n",
    "Este método elimina os espaços da esquerda e da direita tira toda politica"
   ]
  },
  {
   "cell_type": "code",
   "execution_count": 6,
   "metadata": {},
   "outputs": [
    {
     "name": "stdout",
     "output_type": "stream",
     "text": [
      "'               elimina espaços                ' -> 46\n",
      "'elimina espaços' -> 15\n"
     ]
    }
   ],
   "source": [
    "texto = \"               elimina espaços                \"\n",
    "print(f\"'{texto}' -> {len(texto)}\")\n",
    "print(f\"'{texto.strip()}' -> {len(texto.strip())}\")"
   ]
  }
 ],
 "metadata": {
  "kernelspec": {
   "display_name": "Python 3",
   "language": "python",
   "name": "python3"
  },
  "language_info": {
   "codemirror_mode": {
    "name": "ipython",
    "version": 3
   },
   "file_extension": ".py",
   "mimetype": "text/x-python",
   "name": "python",
   "nbconvert_exporter": "python",
   "pygments_lexer": "ipython3",
   "version": "3.10.10"
  },
  "orig_nbformat": 4
 },
 "nbformat": 4,
 "nbformat_minor": 2
}
