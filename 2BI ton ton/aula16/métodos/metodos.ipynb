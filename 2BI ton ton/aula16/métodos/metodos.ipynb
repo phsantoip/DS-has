{
 "cells": [
  {
   "attachments": {},
   "cell_type": "markdown",
   "metadata": {},
   "source": [
    "### Métodos para Manipulaçãode Strings\n",
    "Agora falaremos exclusivamente de strings (lista de caracteres). Aprenderemos os seus principais métodos."
   ]
  },
  {
   "attachments": {},
   "cell_type": "markdown",
   "metadata": {},
   "source": [
    "### find(texto, inicio, fim) -> indice: int\n",
    "Este método procura um trecho destring em outra. retornando o índice do primeiro valor encontrado."
   ]
  },
  {
   "cell_type": "code",
   "execution_count": null,
   "metadata": {},
   "outputs": [],
   "source": [
    "#        01234567890123456789012345678901234567890\n",
    "frase = \"veremos agora o método de manipulação de strings\"\n",
    "print(frase.find(\"agora\"))\n",
    "print(frase.find(\"m\"))\n",
    "print(frase.find(\"listas\"))\n",
    "print(frase.find(\"m\",10,30))"
   ]
  },
  {
   "attachments": {},
   "cell_type": "markdown",
   "metadata": {},
   "source": [
    "### Exercício:\n",
    "Crie uma função que retorne todas as primeiras posições de uma string passada por parametro.\n",
    "```python\n",
    "#        012345678901234567890123456789012345678901234567\n",
    "frase = \"veremos agora o método de manipulação de strings\"\n",
    "print(posicoes(frase, \"m\"))\n",
    ">>> 4, 16, 26\n",
    "```\n",
    "Dica: uma função consegue retornar uma lista"
   ]
  },
  {
   "cell_type": "code",
   "execution_count": 6,
   "metadata": {},
   "outputs": [
    {
     "name": "stdout",
     "output_type": "stream",
     "text": [
      "[8, 12, 27, 33]\n"
     ]
    }
   ],
   "source": [
    "def posicoes(f: str, c: str) -> list:\n",
    "    l = list()\n",
    "    inicio = 0\n",
    "    fim = len(f)\n",
    "    while True:\n",
    "        pos = f.find(c, inicio, fim)\n",
    "        if pos != -1:\n",
    "            l.append(int(pos))\n",
    "            inicio = pos + 1\n",
    "        else:\n",
    "            break\n",
    "    return l\n",
    "\n",
    "# principal\n",
    "#        012345678901234567890123456789012345678901234567\n",
    "frase = \"veremos agora o método de manipulação de strings\"\n",
    "print(posicoes(frase, \"a\"))\n",
    "# >>> 4, 16, 26"
   ]
  },
  {
   "attachments": {},
   "cell_type": "markdown",
   "metadata": {},
   "source": [
    "### join(lista_string)\n",
    "juntatodos os elementos de uma lista do tipo string e converte em uma string apenas."
   ]
  },
  {
   "cell_type": "code",
   "execution_count": 8,
   "metadata": {},
   "outputs": [
    {
     "name": "stdout",
     "output_type": "stream",
     "text": [
      "edson de oliveira\n",
      "edson-de-oliveira\n",
      "edson,de,oliveira\n",
      "edsonolha que legaldeolha que legaloliveira\n"
     ]
    }
   ],
   "source": [
    "nome= [\"edson\",\"de\",\"oliveira\"]\n",
    "print(\" \".join(nome))\n",
    "print(\"-\".join(nome))\n",
    "print(\",\".join(nome))\n",
    "print(\"olha que legal\".join(nome))"
   ]
  },
  {
   "attachments": {},
   "cell_type": "markdown",
   "metadata": {},
   "source": [
    "### split()\n",
    "Este métodoéo contrario no join, ou seja, ele transformauma string em uma lista."
   ]
  },
  {
   "cell_type": "code",
   "execution_count": 9,
   "metadata": {},
   "outputs": [
    {
     "name": "stdout",
     "output_type": "stream",
     "text": [
      "['Edson', 'de', 'Oliveira']\n",
      "['Edson d', ' Oliv', 'ira']\n",
      "['Edson ', ' Oliveira']\n"
     ]
    }
   ],
   "source": [
    "nome = \"Edson de Oliveira\"\n",
    "print(nome.split()) # criou uma lista separando porespacos\n",
    "print(nome.split('e')) # criou uma lista separando por e\n",
    "print(nome.split('de')) # criou uma lista separando por de\n"
   ]
  },
  {
   "attachments": {},
   "cell_type": "markdown",
   "metadata": {},
   "source": [
    "### replace(procura, troca,ocorrencia)\n",
    "procura umcaractere, se encontra troca por outra string\n"
   ]
  },
  {
   "cell_type": "code",
   "execution_count": 12,
   "metadata": {},
   "outputs": [
    {
     "name": "stdout",
     "output_type": "stream",
     "text": [
      "Edson dE olivEira\n",
      "edson DE oliveira\n",
      "edson_de_oliveira\n",
      "edson_de oliveira\n"
     ]
    }
   ],
   "source": [
    "nome = \"edson de oliveira\"\n",
    "print(nome.replace(\"e\",\"E\"))\n",
    "print(nome.replace(\"de\",\"DE\"))\n",
    "print(nome.replace(\" \",\"_\"))\n",
    "print(nome.replace(\" \",\"_\",1))"
   ]
  },
  {
   "attachments": {},
   "cell_type": "markdown",
   "metadata": {},
   "source": [
    "\n",
    "### strip()\n",
    "Este método elimina os espaços da esquerda e da direita"
   ]
  },
  {
   "cell_type": "code",
   "execution_count": 15,
   "metadata": {},
   "outputs": [
    {
     "name": "stdout",
     "output_type": "stream",
     "text": [
      "'   elimina os espaços   ' -> 24\n",
      "'elimina os espaços' -> 18\n"
     ]
    }
   ],
   "source": [
    "texto = \"   elimina os espaços   \"\n",
    "print(f\"'{texto}' -> {len(texto)}\")\n",
    "print(f\"'{texto.strip()}' -> {len(texto.strip())}\")"
   ]
  }
 ],
 "metadata": {
  "kernelspec": {
   "display_name": "Python 3",
   "language": "python",
   "name": "python3"
  },
  "language_info": {
   "codemirror_mode": {
    "name": "ipython",
    "version": 3
   },
   "file_extension": ".py",
   "mimetype": "text/x-python",
   "name": "python",
   "nbconvert_exporter": "python",
   "pygments_lexer": "ipython3",
   "version": "3.11.4"
  },
  "orig_nbformat": 4
 },
 "nbformat": 4,
 "nbformat_minor": 2
}
